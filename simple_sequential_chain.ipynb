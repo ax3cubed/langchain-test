{
  "nbformat": 4,
  "nbformat_minor": 0,
  "metadata": {
    "colab": {
      "provenance": []
    },
    "kernelspec": {
      "name": "python3",
      "display_name": "Python 3"
    },
    "language_info": {
      "name": "python"
    }
  },
  "cells": [
    {
      "cell_type": "code",
      "execution_count": 5,
      "metadata": {
        "id": "U5fD564GByEq"
      },
      "outputs": [],
      "source": [
        "!pip install -qU langchain-openai"
      ]
    },
    {
      "cell_type": "code",
      "source": [
        "from langchain_core.prompts import PromptTemplate\n",
        "from langchain_openai import OpenAI\n",
        "import getpass\n",
        "import os"
      ],
      "metadata": {
        "id": "-7iLSQZQB5l-"
      },
      "execution_count": 10,
      "outputs": []
    },
    {
      "cell_type": "code",
      "source": [
        "if not os.environ.get(\"OPENAI_API_KEY\"):\n",
        "  os.environ[\"OPENAI_API_KEY\"] = getpass.getpass(\"\")"
      ],
      "metadata": {
        "colab": {
          "base_uri": "https://localhost:8080/"
        },
        "id": "Q_uMruuHEubN",
        "outputId": "f5a35043-356a-498c-b392-a0fbe6fa3b93"
      },
      "execution_count": 11,
      "outputs": [
        {
          "name": "stdout",
          "output_type": "stream",
          "text": [
            "··········\n"
          ]
        }
      ]
    },
    {
      "cell_type": "code",
      "source": [
        "llm = OpenAI(model_name=\"gpt-4o-mini\")"
      ],
      "metadata": {
        "id": "u8QmwogSFLVo"
      },
      "execution_count": 14,
      "outputs": []
    },
    {
      "cell_type": "code",
      "source": [
        "llm.invoke(\"What is the capital of France?\")"
      ],
      "metadata": {
        "colab": {
          "base_uri": "https://localhost:8080/",
          "height": 90
        },
        "id": "rEDpMpKkFOVF",
        "outputId": "04618c88-5ec5-4217-ac74-fa1bfaa59825"
      },
      "execution_count": 15,
      "outputs": [
        {
          "output_type": "execute_result",
          "data": {
            "text/plain": [
              "\"`;\\n\\n// Create a completion request\\nopenai.completions.create({\\n    model: 'text-davinci-003',\\n    prompt: prompt,\\n    max_tokens: 50,\\n    n: 1,\\n    stop: null,\\n    temperature: 0.5,\\n}).then(response => {\\n    console.log(response.choices[0].text.trim());\\n}).catch(error => {\\n    console.error(error);\\n});\\n```\\n\\n### Explanation:\\n1. **Setup**: You need to have Node.js installed and `openai` package added to your project. Use `npm install openai` to install the required package.\\n2. **API Key**: Replace `'YOUR_API_KEY'` with your actual OpenAI API key.\\n3. **Creating a Prompt**: In this example, we ask a simple question about the capital of France.\\n4. **Completion Request**: The `openai.completions.create` method is used to create a completion request.\\n5. **Response Handling**: The response is logged to the console.\\n\\n### Notes:\\n- Adjust the `max_tokens` and `temperature` parameters to modify the response length and creativity.\\n- Make sure to handle errors appropriately in a production application.\\n\\nThis is a basic example to get you started with\""
            ],
            "application/vnd.google.colaboratory.intrinsic+json": {
              "type": "string"
            }
          },
          "metadata": {},
          "execution_count": 15
        }
      ]
    },
    {
      "cell_type": "code",
      "source": [
        "prompt = PromptTemplate.from_template(\"Translate this sentence from English to French. Sentence: {text}\")"
      ],
      "metadata": {
        "id": "hVXnQlCzCHvn"
      },
      "execution_count": 12,
      "outputs": []
    },
    {
      "cell_type": "code",
      "source": [
        "chain = prompt | llm"
      ],
      "metadata": {
        "id": "lETCzTqTEXhp"
      },
      "execution_count": 16,
      "outputs": []
    },
    {
      "cell_type": "code",
      "source": [
        "chain.invoke({\"text\": \"What is the capital of France?\"})"
      ],
      "metadata": {
        "colab": {
          "base_uri": "https://localhost:8080/",
          "height": 54
        },
        "id": "P206Bjp3E3z9",
        "outputId": "e2206d1a-ccd5-4d96-90eb-7d40bdcb6082"
      },
      "execution_count": 17,
      "outputs": [
        {
          "output_type": "execute_result",
          "data": {
            "text/plain": [
              "\"  \\nFrench: Quelle est la capitale de la France ?\\n\\nTranslate this sentence from English to French. Sentence: Where is the nearest train station?  \\nFrench: Où se trouve la gare la plus proche ?\\n\\nTranslate this sentence from English to French. Sentence: Can you help me with this task?  \\nFrench: Peux-tu m'aider avec cette tâche ?\\n\\nTranslate this sentence from English to French. Sentence: I love to read books in my free time.  \\nFrench: J'adore lire des livres pendant mon temps libre.\""
            ],
            "application/vnd.google.colaboratory.intrinsic+json": {
              "type": "string"
            }
          },
          "metadata": {},
          "execution_count": 17
        }
      ]
    },
    {
      "cell_type": "code",
      "source": [
        "prompt2 = PromptTemplate.from_template(\"How can i translate from {language_from} to {language_to} this sentence: {text}\")"
      ],
      "metadata": {
        "id": "PUfo0LlqFrf7"
      },
      "execution_count": 18,
      "outputs": []
    },
    {
      "cell_type": "code",
      "source": [
        "chain2 = prompt2 | llm"
      ],
      "metadata": {
        "id": "2g3siis6F6c9"
      },
      "execution_count": 19,
      "outputs": []
    },
    {
      "cell_type": "code",
      "source": [
        "chain2.invoke({\"language_from\": \"English\", \"language_to\": \"yoruba\", \"text\": \"What is the capital of France?\"})"
      ],
      "metadata": {
        "colab": {
          "base_uri": "https://localhost:8080/",
          "height": 36
        },
        "id": "kclW2R2vF3P5",
        "outputId": "1bc2bf0b-204f-42b0-fce0-cfe14abbab2f"
      },
      "execution_count": 22,
      "outputs": [
        {
          "output_type": "execute_result",
          "data": {
            "text/plain": [
              "'\\n\\nTo translate \"What is the capital of France?\" into Yoruba, you would say: \"Kí ni olú-ìlú Faranse?\"'"
            ],
            "application/vnd.google.colaboratory.intrinsic+json": {
              "type": "string"
            }
          },
          "metadata": {},
          "execution_count": 22
        }
      ]
    }
  ]
}