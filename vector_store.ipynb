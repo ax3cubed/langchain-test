{
  "nbformat": 4,
  "nbformat_minor": 0,
  "metadata": {
    "colab": {
      "provenance": []
    },
    "kernelspec": {
      "name": "python3",
      "display_name": "Python 3"
    },
    "language_info": {
      "name": "python"
    }
  },
  "cells": [
    {
      "cell_type": "code",
      "source": [
        "!pip install -qU langchain-openai"
      ],
      "metadata": {
        "colab": {
          "base_uri": "https://localhost:8080/"
        },
        "id": "oQjGOq63p5KR",
        "outputId": "d9ce3d78-de67-44c6-e896-f4f73f1322c9"
      },
      "execution_count": 1,
      "outputs": [
        {
          "output_type": "stream",
          "name": "stdout",
          "text": [
            "\u001b[?25l   \u001b[90m━━━━━━━━━━━━━━━━━━━━━━━━━━━━━━━━━━━━━━━━\u001b[0m \u001b[32m0.0/70.6 kB\u001b[0m \u001b[31m?\u001b[0m eta \u001b[36m-:--:--\u001b[0m\r\u001b[2K   \u001b[90m━━━━━━━━━━━━━━━━━━━━━━━━━━━━━━━━━━━━━━━━\u001b[0m \u001b[32m70.6/70.6 kB\u001b[0m \u001b[31m1.9 MB/s\u001b[0m eta \u001b[36m0:00:00\u001b[0m\n",
            "\u001b[?25h"
          ]
        }
      ]
    },
    {
      "cell_type": "markdown",
      "source": [
        "#Vector Stores, Embeddings, Document"
      ],
      "metadata": {
        "id": "VBoO2jDbqDEA"
      }
    },
    {
      "cell_type": "code",
      "execution_count": 6,
      "metadata": {
        "id": "R_hoEAuPoypR"
      },
      "outputs": [],
      "source": [
        "from langchain_core.documents import Document\n",
        "from langchain_core.vectorstores import InMemoryVectorStore\n",
        "from langchain_openai.embeddings import OpenAIEmbeddings\n",
        "from langchain_openai import OpenAI\n",
        "import os\n",
        "import getpass"
      ]
    },
    {
      "cell_type": "code",
      "source": [
        "if not os.environ.get(\"OPENAI_API_KEY\"):\n",
        "  os.environ[\"OPENAI_API_KEY\"] = getpass.getpass(\"OpenAI API Key:\")"
      ],
      "metadata": {
        "colab": {
          "base_uri": "https://localhost:8080/"
        },
        "id": "qPETSfhxp-Nq",
        "outputId": "9124b58e-f900-48c4-cc03-d07e4ba6f0c5"
      },
      "execution_count": 7,
      "outputs": [
        {
          "name": "stdout",
          "output_type": "stream",
          "text": [
            "OpenAI API Key:··········\n"
          ]
        }
      ]
    },
    {
      "cell_type": "code",
      "source": [
        "llm = OpenAI(model_name=\"gpt-4o-mini\", temperature=0)"
      ],
      "metadata": {
        "id": "NG-UV5cip-tq"
      },
      "execution_count": 11,
      "outputs": []
    },
    {
      "cell_type": "code",
      "source": [
        "documents = [\n",
        "    Document(page_content=\"The Effiel Tower is in France\", metadata={\"source\": \"wiki\"}),\n",
        "    Document(page_content=\"The Great wall of china is visible from space\", metadata={\"source\": \"wiki\"}),\n",
        "    Document(page_content=\"Mount Everest is the Highest mountain\", metadata={\"source\": \"geo\"}),\n",
        "]"
      ],
      "metadata": {
        "id": "1h1l3ujpqK9B"
      },
      "execution_count": 26,
      "outputs": []
    },
    {
      "cell_type": "code",
      "source": [
        "embeddings = OpenAIEmbeddings()\n",
        "vector_store = InMemoryVectorStore(embedding=embeddings)"
      ],
      "metadata": {
        "id": "gq9cfrOmr7b7"
      },
      "execution_count": 27,
      "outputs": []
    },
    {
      "cell_type": "code",
      "source": [
        "vector_store.add_documents(documents)"
      ],
      "metadata": {
        "colab": {
          "base_uri": "https://localhost:8080/"
        },
        "id": "ZpaBrdtdsGFu",
        "outputId": "1ee3e3fe-c0f9-4c1e-9547-4e0db1381a27"
      },
      "execution_count": 28,
      "outputs": [
        {
          "output_type": "execute_result",
          "data": {
            "text/plain": [
              "['bef02bef-90ad-4efe-aef1-3f6d6c910649',\n",
              " '3cb74537-b63c-486b-b9c3-c3899d19d87a',\n",
              " 'abf66504-200b-48c6-910c-9f190b31a682']"
            ]
          },
          "metadata": {},
          "execution_count": 28
        }
      ]
    },
    {
      "cell_type": "code",
      "source": [
        "query = \"Where is the effiel tower?\""
      ],
      "metadata": {
        "id": "J92tus1psQxL"
      },
      "execution_count": 29,
      "outputs": []
    },
    {
      "cell_type": "code",
      "source": [
        "result = vector_store.similarity_search(query, k=1)"
      ],
      "metadata": {
        "id": "S6YIALiCsWG7"
      },
      "execution_count": 37,
      "outputs": []
    },
    {
      "cell_type": "code",
      "source": [
        "print(result)"
      ],
      "metadata": {
        "colab": {
          "base_uri": "https://localhost:8080/"
        },
        "id": "Kmwmd3q7sdau",
        "outputId": "44aaf629-42b7-4ba3-c4cd-f4711adddf9d"
      },
      "execution_count": 38,
      "outputs": [
        {
          "output_type": "stream",
          "name": "stdout",
          "text": [
            "[Document(id='bef02bef-90ad-4efe-aef1-3f6d6c910649', metadata={'source': 'wiki'}, page_content='The Effiel Tower is in France')]\n"
          ]
        }
      ]
    },
    {
      "cell_type": "code",
      "source": [
        "for doc in enumerate(result, 1):\n",
        "  print(\"Content\", doc)\n",
        "  # print(\"Metadata\", doc.metadata)"
      ],
      "metadata": {
        "colab": {
          "base_uri": "https://localhost:8080/"
        },
        "id": "EN699CLFsm9A",
        "outputId": "d2fd121e-b9dc-4b16-e2db-cb4f4a129938"
      },
      "execution_count": 39,
      "outputs": [
        {
          "output_type": "stream",
          "name": "stdout",
          "text": [
            "Content (1, Document(id='bef02bef-90ad-4efe-aef1-3f6d6c910649', metadata={'source': 'wiki'}, page_content='The Effiel Tower is in France'))\n"
          ]
        }
      ]
    },
    {
      "cell_type": "code",
      "source": [],
      "metadata": {
        "id": "fU8YQzLxuOzk"
      },
      "execution_count": null,
      "outputs": []
    }
  ]
}