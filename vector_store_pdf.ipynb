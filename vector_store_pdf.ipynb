{
  "nbformat": 4,
  "nbformat_minor": 0,
  "metadata": {
    "colab": {
      "provenance": []
    },
    "kernelspec": {
      "name": "python3",
      "display_name": "Python 3"
    },
    "language_info": {
      "name": "python"
    }
  },
  "cells": [
    {
      "cell_type": "code",
      "source": [
        "!pip install -qU langchain-openai\n",
        "!pip install langchain-community pypdf"
      ],
      "metadata": {
        "colab": {
          "base_uri": "https://localhost:8080/"
        },
        "id": "oQjGOq63p5KR",
        "outputId": "ad60a0a1-2e6c-458c-bfea-49dc80f24c75"
      },
      "execution_count": 10,
      "outputs": [
        {
          "output_type": "stream",
          "name": "stdout",
          "text": [
            "Requirement already satisfied: langchain-community in /usr/local/lib/python3.11/dist-packages (0.3.27)\n",
            "Collecting pypdf\n",
            "  Downloading pypdf-5.8.0-py3-none-any.whl.metadata (7.1 kB)\n",
            "Requirement already satisfied: langchain-core<1.0.0,>=0.3.66 in /usr/local/lib/python3.11/dist-packages (from langchain-community) (0.3.68)\n",
            "Requirement already satisfied: langchain<1.0.0,>=0.3.26 in /usr/local/lib/python3.11/dist-packages (from langchain-community) (0.3.26)\n",
            "Requirement already satisfied: SQLAlchemy<3,>=1.4 in /usr/local/lib/python3.11/dist-packages (from langchain-community) (2.0.41)\n",
            "Requirement already satisfied: requests<3,>=2 in /usr/local/lib/python3.11/dist-packages (from langchain-community) (2.32.3)\n",
            "Requirement already satisfied: PyYAML>=5.3 in /usr/local/lib/python3.11/dist-packages (from langchain-community) (6.0.2)\n",
            "Requirement already satisfied: aiohttp<4.0.0,>=3.8.3 in /usr/local/lib/python3.11/dist-packages (from langchain-community) (3.11.15)\n",
            "Requirement already satisfied: tenacity!=8.4.0,<10,>=8.1.0 in /usr/local/lib/python3.11/dist-packages (from langchain-community) (8.5.0)\n",
            "Requirement already satisfied: dataclasses-json<0.7,>=0.5.7 in /usr/local/lib/python3.11/dist-packages (from langchain-community) (0.6.7)\n",
            "Requirement already satisfied: pydantic-settings<3.0.0,>=2.4.0 in /usr/local/lib/python3.11/dist-packages (from langchain-community) (2.10.1)\n",
            "Requirement already satisfied: langsmith>=0.1.125 in /usr/local/lib/python3.11/dist-packages (from langchain-community) (0.4.4)\n",
            "Requirement already satisfied: httpx-sse<1.0.0,>=0.4.0 in /usr/local/lib/python3.11/dist-packages (from langchain-community) (0.4.1)\n",
            "Requirement already satisfied: numpy>=1.26.2 in /usr/local/lib/python3.11/dist-packages (from langchain-community) (2.0.2)\n",
            "Requirement already satisfied: aiohappyeyeballs>=2.3.0 in /usr/local/lib/python3.11/dist-packages (from aiohttp<4.0.0,>=3.8.3->langchain-community) (2.6.1)\n",
            "Requirement already satisfied: aiosignal>=1.1.2 in /usr/local/lib/python3.11/dist-packages (from aiohttp<4.0.0,>=3.8.3->langchain-community) (1.4.0)\n",
            "Requirement already satisfied: attrs>=17.3.0 in /usr/local/lib/python3.11/dist-packages (from aiohttp<4.0.0,>=3.8.3->langchain-community) (25.3.0)\n",
            "Requirement already satisfied: frozenlist>=1.1.1 in /usr/local/lib/python3.11/dist-packages (from aiohttp<4.0.0,>=3.8.3->langchain-community) (1.7.0)\n",
            "Requirement already satisfied: multidict<7.0,>=4.5 in /usr/local/lib/python3.11/dist-packages (from aiohttp<4.0.0,>=3.8.3->langchain-community) (6.6.3)\n",
            "Requirement already satisfied: propcache>=0.2.0 in /usr/local/lib/python3.11/dist-packages (from aiohttp<4.0.0,>=3.8.3->langchain-community) (0.3.2)\n",
            "Requirement already satisfied: yarl<2.0,>=1.17.0 in /usr/local/lib/python3.11/dist-packages (from aiohttp<4.0.0,>=3.8.3->langchain-community) (1.20.1)\n",
            "Requirement already satisfied: marshmallow<4.0.0,>=3.18.0 in /usr/local/lib/python3.11/dist-packages (from dataclasses-json<0.7,>=0.5.7->langchain-community) (3.26.1)\n",
            "Requirement already satisfied: typing-inspect<1,>=0.4.0 in /usr/local/lib/python3.11/dist-packages (from dataclasses-json<0.7,>=0.5.7->langchain-community) (0.9.0)\n",
            "Requirement already satisfied: langchain-text-splitters<1.0.0,>=0.3.8 in /usr/local/lib/python3.11/dist-packages (from langchain<1.0.0,>=0.3.26->langchain-community) (0.3.8)\n",
            "Requirement already satisfied: pydantic<3.0.0,>=2.7.4 in /usr/local/lib/python3.11/dist-packages (from langchain<1.0.0,>=0.3.26->langchain-community) (2.11.7)\n",
            "Requirement already satisfied: jsonpatch<2.0,>=1.33 in /usr/local/lib/python3.11/dist-packages (from langchain-core<1.0.0,>=0.3.66->langchain-community) (1.33)\n",
            "Requirement already satisfied: packaging<25,>=23.2 in /usr/local/lib/python3.11/dist-packages (from langchain-core<1.0.0,>=0.3.66->langchain-community) (24.2)\n",
            "Requirement already satisfied: typing-extensions>=4.7 in /usr/local/lib/python3.11/dist-packages (from langchain-core<1.0.0,>=0.3.66->langchain-community) (4.14.1)\n",
            "Requirement already satisfied: httpx<1,>=0.23.0 in /usr/local/lib/python3.11/dist-packages (from langsmith>=0.1.125->langchain-community) (0.28.1)\n",
            "Requirement already satisfied: orjson<4.0.0,>=3.9.14 in /usr/local/lib/python3.11/dist-packages (from langsmith>=0.1.125->langchain-community) (3.10.18)\n",
            "Requirement already satisfied: requests-toolbelt<2.0.0,>=1.0.0 in /usr/local/lib/python3.11/dist-packages (from langsmith>=0.1.125->langchain-community) (1.0.0)\n",
            "Requirement already satisfied: zstandard<0.24.0,>=0.23.0 in /usr/local/lib/python3.11/dist-packages (from langsmith>=0.1.125->langchain-community) (0.23.0)\n",
            "Requirement already satisfied: python-dotenv>=0.21.0 in /usr/local/lib/python3.11/dist-packages (from pydantic-settings<3.0.0,>=2.4.0->langchain-community) (1.1.1)\n",
            "Requirement already satisfied: typing-inspection>=0.4.0 in /usr/local/lib/python3.11/dist-packages (from pydantic-settings<3.0.0,>=2.4.0->langchain-community) (0.4.1)\n",
            "Requirement already satisfied: charset-normalizer<4,>=2 in /usr/local/lib/python3.11/dist-packages (from requests<3,>=2->langchain-community) (3.4.2)\n",
            "Requirement already satisfied: idna<4,>=2.5 in /usr/local/lib/python3.11/dist-packages (from requests<3,>=2->langchain-community) (3.10)\n",
            "Requirement already satisfied: urllib3<3,>=1.21.1 in /usr/local/lib/python3.11/dist-packages (from requests<3,>=2->langchain-community) (2.4.0)\n",
            "Requirement already satisfied: certifi>=2017.4.17 in /usr/local/lib/python3.11/dist-packages (from requests<3,>=2->langchain-community) (2025.7.9)\n",
            "Requirement already satisfied: greenlet>=1 in /usr/local/lib/python3.11/dist-packages (from SQLAlchemy<3,>=1.4->langchain-community) (3.2.3)\n",
            "Requirement already satisfied: anyio in /usr/local/lib/python3.11/dist-packages (from httpx<1,>=0.23.0->langsmith>=0.1.125->langchain-community) (4.9.0)\n",
            "Requirement already satisfied: httpcore==1.* in /usr/local/lib/python3.11/dist-packages (from httpx<1,>=0.23.0->langsmith>=0.1.125->langchain-community) (1.0.9)\n",
            "Requirement already satisfied: h11>=0.16 in /usr/local/lib/python3.11/dist-packages (from httpcore==1.*->httpx<1,>=0.23.0->langsmith>=0.1.125->langchain-community) (0.16.0)\n",
            "Requirement already satisfied: jsonpointer>=1.9 in /usr/local/lib/python3.11/dist-packages (from jsonpatch<2.0,>=1.33->langchain-core<1.0.0,>=0.3.66->langchain-community) (3.0.0)\n",
            "Requirement already satisfied: annotated-types>=0.6.0 in /usr/local/lib/python3.11/dist-packages (from pydantic<3.0.0,>=2.7.4->langchain<1.0.0,>=0.3.26->langchain-community) (0.7.0)\n",
            "Requirement already satisfied: pydantic-core==2.33.2 in /usr/local/lib/python3.11/dist-packages (from pydantic<3.0.0,>=2.7.4->langchain<1.0.0,>=0.3.26->langchain-community) (2.33.2)\n",
            "Requirement already satisfied: mypy-extensions>=0.3.0 in /usr/local/lib/python3.11/dist-packages (from typing-inspect<1,>=0.4.0->dataclasses-json<0.7,>=0.5.7->langchain-community) (1.1.0)\n",
            "Requirement already satisfied: sniffio>=1.1 in /usr/local/lib/python3.11/dist-packages (from anyio->httpx<1,>=0.23.0->langsmith>=0.1.125->langchain-community) (1.3.1)\n",
            "Downloading pypdf-5.8.0-py3-none-any.whl (309 kB)\n",
            "\u001b[2K   \u001b[90m━━━━━━━━━━━━━━━━━━━━━━━━━━━━━━━━━━━━━━━━\u001b[0m \u001b[32m309.7/309.7 kB\u001b[0m \u001b[31m8.3 MB/s\u001b[0m eta \u001b[36m0:00:00\u001b[0m\n",
            "\u001b[?25hInstalling collected packages: pypdf\n",
            "Successfully installed pypdf-5.8.0\n"
          ]
        }
      ]
    },
    {
      "cell_type": "markdown",
      "source": [
        "#Vector Stores, Embeddings, Document"
      ],
      "metadata": {
        "id": "VBoO2jDbqDEA"
      }
    },
    {
      "cell_type": "code",
      "execution_count": 9,
      "metadata": {
        "id": "R_hoEAuPoypR"
      },
      "outputs": [],
      "source": [
        "from langchain_community.document_loaders import PyPDFLoader\n",
        "from langchain_core.vectorstores import InMemoryVectorStore\n",
        "from langchain_openai.embeddings import OpenAIEmbeddings\n",
        "from langchain_openai import OpenAI\n",
        "import os\n",
        "import getpass"
      ]
    },
    {
      "cell_type": "code",
      "source": [
        "if not os.environ.get(\"OPENAI_API_KEY\"):\n",
        "  os.environ[\"OPENAI_API_KEY\"] = getpass.getpass(\"OpenAI API Key:\")"
      ],
      "metadata": {
        "colab": {
          "base_uri": "https://localhost:8080/"
        },
        "id": "qPETSfhxp-Nq",
        "outputId": "fc1d9290-fd79-4eed-9aee-4cef65511d4b"
      },
      "execution_count": 6,
      "outputs": [
        {
          "name": "stdout",
          "output_type": "stream",
          "text": [
            "OpenAI API Key:··········\n"
          ]
        }
      ]
    },
    {
      "cell_type": "code",
      "source": [
        "llm = OpenAI(model_name=\"gpt-4o-mini\", temperature=0)"
      ],
      "metadata": {
        "id": "NG-UV5cip-tq"
      },
      "execution_count": null,
      "outputs": []
    },
    {
      "cell_type": "code",
      "source": [
        "document_loader = PyPDFLoader(\"instructables.pdf\")"
      ],
      "metadata": {
        "id": "twoqJYz-vyqr"
      },
      "execution_count": 7,
      "outputs": []
    },
    {
      "cell_type": "code",
      "source": [
        "pdf_docs = document_loader.load()"
      ],
      "metadata": {
        "id": "S3OAemJ6v-3M"
      },
      "execution_count": 11,
      "outputs": []
    },
    {
      "cell_type": "code",
      "source": [
        "embeddings = OpenAIEmbeddings()"
      ],
      "metadata": {
        "id": "XSXQ5-NewUZg"
      },
      "execution_count": 12,
      "outputs": []
    },
    {
      "cell_type": "code",
      "source": [
        "vector_store = InMemoryVectorStore(embedding=embeddings)"
      ],
      "metadata": {
        "id": "_Qi1Mqz4wYBU"
      },
      "execution_count": 13,
      "outputs": []
    },
    {
      "cell_type": "code",
      "source": [
        "vector_store.add_documents(pdf_docs)"
      ],
      "metadata": {
        "colab": {
          "base_uri": "https://localhost:8080/"
        },
        "id": "EKil6eG7wdrA",
        "outputId": "8924fd23-682f-4e63-84bd-21d851488061"
      },
      "execution_count": 14,
      "outputs": [
        {
          "output_type": "execute_result",
          "data": {
            "text/plain": [
              "['bfbbd2e8-038f-401d-855f-2be1b1a3e88b',\n",
              " '7d609695-4402-4736-91f1-4ee7dfeb8b8b',\n",
              " '5552074c-fd14-4393-b07d-ff0b5afa10a6',\n",
              " '32443e8b-f87a-478c-afd6-a2f1226a4d28',\n",
              " '30103dab-ab53-427a-97c9-87be50d4605c',\n",
              " '27619356-d535-463f-b733-dcd53260466c',\n",
              " 'd6681d3f-4efe-408c-8c64-d86a02a1c42f',\n",
              " 'e27c166e-73a2-4249-a12d-949aa741d3f3',\n",
              " '3159ed33-99b4-403d-9c81-8ab36937f7e1',\n",
              " 'bd0b6d9e-e575-4977-a1a2-ef3468d39b2f',\n",
              " '88533ef1-a7bb-44e6-8668-7ac51c768b09',\n",
              " 'ce1705e4-591f-4fdb-9013-47579c4d835d',\n",
              " '4edd609b-cdf6-47ed-b2e6-b0736a0e16ab',\n",
              " '47d9ed14-a7cf-44d9-996c-e3ee1c4a4b7d',\n",
              " '4ad26bf0-f86b-4a8c-8a4f-30b65c526040',\n",
              " 'ccd8d906-7726-42b5-aba8-58e657f5db76',\n",
              " 'd33e154e-5c03-4140-acf7-3ef091450d2c',\n",
              " 'cc4177c7-43ed-43f9-a4c7-5973bd669e4d',\n",
              " '7891fb12-75a2-4e2d-9e68-2a35860af90c']"
            ]
          },
          "metadata": {},
          "execution_count": 14
        }
      ]
    },
    {
      "cell_type": "code",
      "source": [
        "query = \"What is the main idea in the document\""
      ],
      "metadata": {
        "id": "GZNib0FCwj2n"
      },
      "execution_count": 15,
      "outputs": []
    },
    {
      "cell_type": "code",
      "source": [
        "results = vector_store.similarity_search(query, k=1)"
      ],
      "metadata": {
        "id": "Np0YKsg3wp_L"
      },
      "execution_count": 19,
      "outputs": []
    },
    {
      "cell_type": "code",
      "source": [
        "for i , doc in enumerate(results, 1):\n",
        "  print(f\"Document {i+1}\")\n",
        "  print(\"Content: \", doc.page_content)\n",
        "  print(\"Metadata: \",doc.metadata)"
      ],
      "metadata": {
        "colab": {
          "base_uri": "https://localhost:8080/"
        },
        "id": "TtVhlAeywuON",
        "outputId": "d78032cf-a992-42db-9f94-afcb25b4ca48"
      },
      "execution_count": 20,
      "outputs": [
        {
          "output_type": "stream",
          "name": "stdout",
          "text": [
            "Document 2\n",
            "Content:  Step 7: Electronics Overview\n",
            "See the Wiring Diagram image attached to this step for an overview of the electrical connections.\n",
            "Conceptually, the sphere's electronics are quite simple. The control PCB contains both the Wemos D1\n",
            "Mini micro-controller and the TP4056 LiPo battery charging board, acting as the \"core\" of the sphere.\n",
            "To drive the sphere, the control PCB is hooked up to a power switch, LiPo battery, the LED rings, and\n",
            "the sphere's sole sensor; an IR receiver LED.\n",
            "The difficulty in the electronics comes mainly from cramming them all into the sphere. To ensure\n",
            "everything fits correctly, I opted to insert and connect the electronics into the sphere in stages (as\n",
            "opposed to assembling everything outside of the sphere and inserting). This method leads to some\n",
            "tricky soldering situations, where you're soldering somewhat \"blind\" or in cramped areas. It is essential\n",
            "that you are decent at soldering, and have a fine tipped iron available.\n",
            "I encourage you to look over the assembly steps before starting, as you may want to do things\n",
            "differently than me. Likewise, for each soldering maneuver, be sure to plan your approach, and try a\n",
            "\"dry run\" before getting the iron hot.\n",
            "Honestly, I'm making it sound worse than it actually is, but I just wanted to give you a heads up!\n",
            "Be aware that the WS2812 LEDs can be damaged by excessive heat, so try to be efficient with\n",
            "your soldering. Avoid applying heat close to any LED for more than 10sec or so (not a fixed\n",
            "time, LEDs are usually more robust, but it's just something I go by).\n",
            "Notes on the Ring Joiner PCB:\n",
            "As you'll see in the next steps, the LED rings are staggered within the sphere, forming a staircase like\n",
            "structure. Meanwhile, each ring has a single 5V, GND, DI (LED data in), and DO (LED data out) pad.\n",
            "This creates a soldering challenge, as you need to connect all the rings GND and 5V pads together,\n",
            "while also zigzagging the data line and keeping the rings separated enough to fit in the sphere\n",
            "correctly.\n",
            "To make the ring connection process \"easier\", I designed a \"ring joiner\" PCB (pictured in this step),\n",
            "which does all the GND/5V/Data line work for you. The PCBs solder vertically to the LED rings'\n",
            "connection pads using the PCB's bottom \"half-holes\", while the two rows of through-holes are sized\n",
            "for common 2.54mm male headers. Likewise, the holes are spaced vertically to match the heights of\n",
            "the rings in the sphere. So by adding male headers to each of the rings' pads, they can be connected\n",
            "and staggered all using the single PCB.\n",
            "The ring joiner PCB literally just does connections, so each numbered pin on the PCB connects to all\n",
            "other pins with the same number. The pin layout may look a little wacky, but it's designed to\n",
            "accommodate the ring connections from the wiring diagram (with the LED data running from bottom to\n",
            "top, from innermost ring to outermost to innermost).\n",
            "The orientation (backwards or frontwards) of the joiner PCB on each ring is critical for correct\n",
            "data flow. Make sure you pay close attention to the PCB in ring assembly images!\n",
            "Finally, while I designed the joiner PCB to make things easier, it ended up being more of a give and\n",
            "take. It absolutely makes connecting and aligning the rings easier, but it's a little tricky to solder the\n",
            "joiner PCB to each LED ring's pads, especially with male headers added. So, while I used the joiner\n",
            "PCB's, you may want to consider just going with wired connections. However, you'll have to figure out\n",
            "that method for yourself.\n",
            "7/14/25, 12:42 PM LED Sphere (Desktop-Sized) : 28 Steps (with Pictures) - Instructables\n",
            "https://www.instructables.com/LED-Sphere-Desktop-Sized/ 8/19\n",
            "Metadata:  {'producer': 'Skia/PDF m138', 'creator': 'Mozilla/5.0 (Windows NT 10.0; Win64; x64) AppleWebKit/537.36 (KHTML, like Gecko) Chrome/138.0.0.0 Safari/537.36', 'creationdate': '2025-07-14T11:42:39+00:00', 'title': 'LED Sphere (Desktop-Sized) : 28 Steps (with Pictures) - Instructables', 'moddate': '2025-07-14T11:42:39+00:00', 'source': 'instructables.pdf', 'total_pages': 19, 'page': 7, 'page_label': '8'}\n"
          ]
        }
      ]
    }
  ]
}